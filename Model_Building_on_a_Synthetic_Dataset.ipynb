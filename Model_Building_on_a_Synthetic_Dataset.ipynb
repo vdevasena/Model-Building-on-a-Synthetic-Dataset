{
  "nbformat": 4,
  "nbformat_minor": 0,
  "metadata": {
    "colab": {
      "provenance": []
    },
    "kernelspec": {
      "name": "python3",
      "display_name": "Python 3"
    },
    "language_info": {
      "name": "python"
    }
  },
  "cells": [
    {
      "cell_type": "code",
      "execution_count": 22,
      "metadata": {
        "id": "7fvgigJsNJS_"
      },
      "outputs": [],
      "source": [
        "import pandas as pd\n",
        "import numpy as np\n",
        "import matplotlib.pyplot as plt\n",
        "import seaborn as sns\n",
        "import random\n",
        "from sklearn.linear_model import LinearRegression\n",
        "from sklearn.ensemble import RandomForestRegressor\n",
        "from sklearn.linear_model import Lasso, Ridge\n",
        "from sklearn.preprocessing import StandardScaler\n",
        "from sklearn.model_selection import train_test_split\n",
        "from sklearn.preprocessing import LabelEncoder\n",
        "from sklearn.metrics import mean_squared_error\n",
        "from sklearn.preprocessing import StandardScaler\n",
        "random.seed(42)"
      ]
    },
    {
      "cell_type": "code",
      "source": [
        "train_data = pd.read_csv('codetest_train.txt',delimiter='\\t')"
      ],
      "metadata": {
        "id": "08YnbrKMNU7a"
      },
      "execution_count": 15,
      "outputs": []
    },
    {
      "cell_type": "code",
      "source": [
        "test_data = pd.read_csv('codetest_test.txt',delimiter='\\t')"
      ],
      "metadata": {
        "id": "hBJx1UChN7C5"
      },
      "execution_count": 16,
      "outputs": []
    },
    {
      "cell_type": "code",
      "source": [
        "train_data.describe()"
      ],
      "metadata": {
        "colab": {
          "base_uri": "https://localhost:8080/",
          "height": 349
        },
        "id": "x_o3JV_ONcZt",
        "outputId": "e06d56be-1ea6-4f60-aaae-0e3b5f5c88ca"
      },
      "execution_count": 17,
      "outputs": [
        {
          "output_type": "execute_result",
          "data": {
            "text/plain": [
              "            target          f_0          f_1          f_2          f_3  \\\n",
              "count  5000.000000  4903.000000  4928.000000  4908.000000  4910.000000   \n",
              "mean      1.143878    -0.000433     0.002564     0.028877    -0.005437   \n",
              "std       5.259896     0.999739     0.997930     1.019337     0.990351   \n",
              "min     -26.705570    -3.941000    -3.847000    -3.818000    -3.434000   \n",
              "25%      -2.034383    -0.673000    -0.685000    -0.651000    -0.655000   \n",
              "50%       1.166835    -0.011000    -0.003000     0.047500     0.003500   \n",
              "75%       4.439549     0.677000     0.674500     0.719000     0.668000   \n",
              "max      26.347818     3.831000     3.996000     3.199000     4.962000   \n",
              "\n",
              "               f_4          f_5          f_6          f_7          f_8  ...  \\\n",
              "count  4907.000000  4912.000000  4897.000000  4904.000000  4893.000000  ...   \n",
              "mean     -0.006759     0.005569     0.001536    -0.001019     0.009744  ...   \n",
              "std       1.006293     0.995799     1.004624     0.997356     0.988310  ...   \n",
              "min      -3.400000    -4.051000    -3.179000    -3.890000    -3.857000  ...   \n",
              "25%      -0.685500    -0.660000    -0.672000    -0.679000    -0.662000  ...   \n",
              "50%      -0.007000    -0.008000    -0.003000    -0.021500     0.017000  ...   \n",
              "75%       0.654000     0.649000     0.679000     0.670250     0.698000  ...   \n",
              "max       3.106000     4.296000     4.166000     3.798000     4.195000  ...   \n",
              "\n",
              "             f_244        f_245        f_246        f_247        f_248  \\\n",
              "count  4910.000000  4883.000000  4914.000000  4894.000000  4902.000000   \n",
              "mean      0.013529     0.004941     0.023261    -0.018447    -0.009842   \n",
              "std       1.001453     0.997330     0.996458     1.005000     0.989228   \n",
              "min      -3.585000    -3.494000    -3.485000    -4.012000    -3.252000   \n",
              "25%      -0.665750    -0.676000    -0.661750    -0.692000    -0.663000   \n",
              "50%       0.026000    -0.028000     0.027000    -0.035000    -0.010500   \n",
              "75%       0.671750     0.670000     0.702500     0.655000     0.651000   \n",
              "max       3.365000     3.456000     3.881000     3.690000     3.629000   \n",
              "\n",
              "             f_249        f_250        f_251        f_252        f_253  \n",
              "count  4886.000000  4900.000000  4921.000000  4904.000000  4904.000000  \n",
              "mean      0.016958    -0.004947     0.016868    -0.001351     0.010334  \n",
              "std       1.011331     0.991577     1.001358     1.003411     1.006896  \n",
              "min      -3.821000    -3.376000    -3.373000    -3.950000    -3.728000  \n",
              "25%      -0.647750    -0.679500    -0.647000    -0.695000    -0.677000  \n",
              "50%       0.002500     0.010000     0.020000     0.002500     0.015000  \n",
              "75%       0.709750     0.660250     0.692000     0.672250     0.705250  \n",
              "max       4.144000     3.873000     3.187000     3.724000     3.956000  \n",
              "\n",
              "[8 rows x 251 columns]"
            ],
            "text/html": [
              "\n",
              "  <div id=\"df-ae6e47c9-85f1-4911-bd6b-027c971d273a\" class=\"colab-df-container\">\n",
              "    <div>\n",
              "<style scoped>\n",
              "    .dataframe tbody tr th:only-of-type {\n",
              "        vertical-align: middle;\n",
              "    }\n",
              "\n",
              "    .dataframe tbody tr th {\n",
              "        vertical-align: top;\n",
              "    }\n",
              "\n",
              "    .dataframe thead th {\n",
              "        text-align: right;\n",
              "    }\n",
              "</style>\n",
              "<table border=\"1\" class=\"dataframe\">\n",
              "  <thead>\n",
              "    <tr style=\"text-align: right;\">\n",
              "      <th></th>\n",
              "      <th>target</th>\n",
              "      <th>f_0</th>\n",
              "      <th>f_1</th>\n",
              "      <th>f_2</th>\n",
              "      <th>f_3</th>\n",
              "      <th>f_4</th>\n",
              "      <th>f_5</th>\n",
              "      <th>f_6</th>\n",
              "      <th>f_7</th>\n",
              "      <th>f_8</th>\n",
              "      <th>...</th>\n",
              "      <th>f_244</th>\n",
              "      <th>f_245</th>\n",
              "      <th>f_246</th>\n",
              "      <th>f_247</th>\n",
              "      <th>f_248</th>\n",
              "      <th>f_249</th>\n",
              "      <th>f_250</th>\n",
              "      <th>f_251</th>\n",
              "      <th>f_252</th>\n",
              "      <th>f_253</th>\n",
              "    </tr>\n",
              "  </thead>\n",
              "  <tbody>\n",
              "    <tr>\n",
              "      <th>count</th>\n",
              "      <td>5000.000000</td>\n",
              "      <td>4903.000000</td>\n",
              "      <td>4928.000000</td>\n",
              "      <td>4908.000000</td>\n",
              "      <td>4910.000000</td>\n",
              "      <td>4907.000000</td>\n",
              "      <td>4912.000000</td>\n",
              "      <td>4897.000000</td>\n",
              "      <td>4904.000000</td>\n",
              "      <td>4893.000000</td>\n",
              "      <td>...</td>\n",
              "      <td>4910.000000</td>\n",
              "      <td>4883.000000</td>\n",
              "      <td>4914.000000</td>\n",
              "      <td>4894.000000</td>\n",
              "      <td>4902.000000</td>\n",
              "      <td>4886.000000</td>\n",
              "      <td>4900.000000</td>\n",
              "      <td>4921.000000</td>\n",
              "      <td>4904.000000</td>\n",
              "      <td>4904.000000</td>\n",
              "    </tr>\n",
              "    <tr>\n",
              "      <th>mean</th>\n",
              "      <td>1.143878</td>\n",
              "      <td>-0.000433</td>\n",
              "      <td>0.002564</td>\n",
              "      <td>0.028877</td>\n",
              "      <td>-0.005437</td>\n",
              "      <td>-0.006759</td>\n",
              "      <td>0.005569</td>\n",
              "      <td>0.001536</td>\n",
              "      <td>-0.001019</td>\n",
              "      <td>0.009744</td>\n",
              "      <td>...</td>\n",
              "      <td>0.013529</td>\n",
              "      <td>0.004941</td>\n",
              "      <td>0.023261</td>\n",
              "      <td>-0.018447</td>\n",
              "      <td>-0.009842</td>\n",
              "      <td>0.016958</td>\n",
              "      <td>-0.004947</td>\n",
              "      <td>0.016868</td>\n",
              "      <td>-0.001351</td>\n",
              "      <td>0.010334</td>\n",
              "    </tr>\n",
              "    <tr>\n",
              "      <th>std</th>\n",
              "      <td>5.259896</td>\n",
              "      <td>0.999739</td>\n",
              "      <td>0.997930</td>\n",
              "      <td>1.019337</td>\n",
              "      <td>0.990351</td>\n",
              "      <td>1.006293</td>\n",
              "      <td>0.995799</td>\n",
              "      <td>1.004624</td>\n",
              "      <td>0.997356</td>\n",
              "      <td>0.988310</td>\n",
              "      <td>...</td>\n",
              "      <td>1.001453</td>\n",
              "      <td>0.997330</td>\n",
              "      <td>0.996458</td>\n",
              "      <td>1.005000</td>\n",
              "      <td>0.989228</td>\n",
              "      <td>1.011331</td>\n",
              "      <td>0.991577</td>\n",
              "      <td>1.001358</td>\n",
              "      <td>1.003411</td>\n",
              "      <td>1.006896</td>\n",
              "    </tr>\n",
              "    <tr>\n",
              "      <th>min</th>\n",
              "      <td>-26.705570</td>\n",
              "      <td>-3.941000</td>\n",
              "      <td>-3.847000</td>\n",
              "      <td>-3.818000</td>\n",
              "      <td>-3.434000</td>\n",
              "      <td>-3.400000</td>\n",
              "      <td>-4.051000</td>\n",
              "      <td>-3.179000</td>\n",
              "      <td>-3.890000</td>\n",
              "      <td>-3.857000</td>\n",
              "      <td>...</td>\n",
              "      <td>-3.585000</td>\n",
              "      <td>-3.494000</td>\n",
              "      <td>-3.485000</td>\n",
              "      <td>-4.012000</td>\n",
              "      <td>-3.252000</td>\n",
              "      <td>-3.821000</td>\n",
              "      <td>-3.376000</td>\n",
              "      <td>-3.373000</td>\n",
              "      <td>-3.950000</td>\n",
              "      <td>-3.728000</td>\n",
              "    </tr>\n",
              "    <tr>\n",
              "      <th>25%</th>\n",
              "      <td>-2.034383</td>\n",
              "      <td>-0.673000</td>\n",
              "      <td>-0.685000</td>\n",
              "      <td>-0.651000</td>\n",
              "      <td>-0.655000</td>\n",
              "      <td>-0.685500</td>\n",
              "      <td>-0.660000</td>\n",
              "      <td>-0.672000</td>\n",
              "      <td>-0.679000</td>\n",
              "      <td>-0.662000</td>\n",
              "      <td>...</td>\n",
              "      <td>-0.665750</td>\n",
              "      <td>-0.676000</td>\n",
              "      <td>-0.661750</td>\n",
              "      <td>-0.692000</td>\n",
              "      <td>-0.663000</td>\n",
              "      <td>-0.647750</td>\n",
              "      <td>-0.679500</td>\n",
              "      <td>-0.647000</td>\n",
              "      <td>-0.695000</td>\n",
              "      <td>-0.677000</td>\n",
              "    </tr>\n",
              "    <tr>\n",
              "      <th>50%</th>\n",
              "      <td>1.166835</td>\n",
              "      <td>-0.011000</td>\n",
              "      <td>-0.003000</td>\n",
              "      <td>0.047500</td>\n",
              "      <td>0.003500</td>\n",
              "      <td>-0.007000</td>\n",
              "      <td>-0.008000</td>\n",
              "      <td>-0.003000</td>\n",
              "      <td>-0.021500</td>\n",
              "      <td>0.017000</td>\n",
              "      <td>...</td>\n",
              "      <td>0.026000</td>\n",
              "      <td>-0.028000</td>\n",
              "      <td>0.027000</td>\n",
              "      <td>-0.035000</td>\n",
              "      <td>-0.010500</td>\n",
              "      <td>0.002500</td>\n",
              "      <td>0.010000</td>\n",
              "      <td>0.020000</td>\n",
              "      <td>0.002500</td>\n",
              "      <td>0.015000</td>\n",
              "    </tr>\n",
              "    <tr>\n",
              "      <th>75%</th>\n",
              "      <td>4.439549</td>\n",
              "      <td>0.677000</td>\n",
              "      <td>0.674500</td>\n",
              "      <td>0.719000</td>\n",
              "      <td>0.668000</td>\n",
              "      <td>0.654000</td>\n",
              "      <td>0.649000</td>\n",
              "      <td>0.679000</td>\n",
              "      <td>0.670250</td>\n",
              "      <td>0.698000</td>\n",
              "      <td>...</td>\n",
              "      <td>0.671750</td>\n",
              "      <td>0.670000</td>\n",
              "      <td>0.702500</td>\n",
              "      <td>0.655000</td>\n",
              "      <td>0.651000</td>\n",
              "      <td>0.709750</td>\n",
              "      <td>0.660250</td>\n",
              "      <td>0.692000</td>\n",
              "      <td>0.672250</td>\n",
              "      <td>0.705250</td>\n",
              "    </tr>\n",
              "    <tr>\n",
              "      <th>max</th>\n",
              "      <td>26.347818</td>\n",
              "      <td>3.831000</td>\n",
              "      <td>3.996000</td>\n",
              "      <td>3.199000</td>\n",
              "      <td>4.962000</td>\n",
              "      <td>3.106000</td>\n",
              "      <td>4.296000</td>\n",
              "      <td>4.166000</td>\n",
              "      <td>3.798000</td>\n",
              "      <td>4.195000</td>\n",
              "      <td>...</td>\n",
              "      <td>3.365000</td>\n",
              "      <td>3.456000</td>\n",
              "      <td>3.881000</td>\n",
              "      <td>3.690000</td>\n",
              "      <td>3.629000</td>\n",
              "      <td>4.144000</td>\n",
              "      <td>3.873000</td>\n",
              "      <td>3.187000</td>\n",
              "      <td>3.724000</td>\n",
              "      <td>3.956000</td>\n",
              "    </tr>\n",
              "  </tbody>\n",
              "</table>\n",
              "<p>8 rows × 251 columns</p>\n",
              "</div>\n",
              "    <div class=\"colab-df-buttons\">\n",
              "\n",
              "  <div class=\"colab-df-container\">\n",
              "    <button class=\"colab-df-convert\" onclick=\"convertToInteractive('df-ae6e47c9-85f1-4911-bd6b-027c971d273a')\"\n",
              "            title=\"Convert this dataframe to an interactive table.\"\n",
              "            style=\"display:none;\">\n",
              "\n",
              "  <svg xmlns=\"http://www.w3.org/2000/svg\" height=\"24px\" viewBox=\"0 -960 960 960\">\n",
              "    <path d=\"M120-120v-720h720v720H120Zm60-500h600v-160H180v160Zm220 220h160v-160H400v160Zm0 220h160v-160H400v160ZM180-400h160v-160H180v160Zm440 0h160v-160H620v160ZM180-180h160v-160H180v160Zm440 0h160v-160H620v160Z\"/>\n",
              "  </svg>\n",
              "    </button>\n",
              "\n",
              "  <style>\n",
              "    .colab-df-container {\n",
              "      display:flex;\n",
              "      gap: 12px;\n",
              "    }\n",
              "\n",
              "    .colab-df-convert {\n",
              "      background-color: #E8F0FE;\n",
              "      border: none;\n",
              "      border-radius: 50%;\n",
              "      cursor: pointer;\n",
              "      display: none;\n",
              "      fill: #1967D2;\n",
              "      height: 32px;\n",
              "      padding: 0 0 0 0;\n",
              "      width: 32px;\n",
              "    }\n",
              "\n",
              "    .colab-df-convert:hover {\n",
              "      background-color: #E2EBFA;\n",
              "      box-shadow: 0px 1px 2px rgba(60, 64, 67, 0.3), 0px 1px 3px 1px rgba(60, 64, 67, 0.15);\n",
              "      fill: #174EA6;\n",
              "    }\n",
              "\n",
              "    .colab-df-buttons div {\n",
              "      margin-bottom: 4px;\n",
              "    }\n",
              "\n",
              "    [theme=dark] .colab-df-convert {\n",
              "      background-color: #3B4455;\n",
              "      fill: #D2E3FC;\n",
              "    }\n",
              "\n",
              "    [theme=dark] .colab-df-convert:hover {\n",
              "      background-color: #434B5C;\n",
              "      box-shadow: 0px 1px 3px 1px rgba(0, 0, 0, 0.15);\n",
              "      filter: drop-shadow(0px 1px 2px rgba(0, 0, 0, 0.3));\n",
              "      fill: #FFFFFF;\n",
              "    }\n",
              "  </style>\n",
              "\n",
              "    <script>\n",
              "      const buttonEl =\n",
              "        document.querySelector('#df-ae6e47c9-85f1-4911-bd6b-027c971d273a button.colab-df-convert');\n",
              "      buttonEl.style.display =\n",
              "        google.colab.kernel.accessAllowed ? 'block' : 'none';\n",
              "\n",
              "      async function convertToInteractive(key) {\n",
              "        const element = document.querySelector('#df-ae6e47c9-85f1-4911-bd6b-027c971d273a');\n",
              "        const dataTable =\n",
              "          await google.colab.kernel.invokeFunction('convertToInteractive',\n",
              "                                                    [key], {});\n",
              "        if (!dataTable) return;\n",
              "\n",
              "        const docLinkHtml = 'Like what you see? Visit the ' +\n",
              "          '<a target=\"_blank\" href=https://colab.research.google.com/notebooks/data_table.ipynb>data table notebook</a>'\n",
              "          + ' to learn more about interactive tables.';\n",
              "        element.innerHTML = '';\n",
              "        dataTable['output_type'] = 'display_data';\n",
              "        await google.colab.output.renderOutput(dataTable, element);\n",
              "        const docLink = document.createElement('div');\n",
              "        docLink.innerHTML = docLinkHtml;\n",
              "        element.appendChild(docLink);\n",
              "      }\n",
              "    </script>\n",
              "  </div>\n",
              "\n",
              "\n",
              "    <div id=\"df-0f332c2b-30f8-44c8-a119-51aed2aedaf0\">\n",
              "      <button class=\"colab-df-quickchart\" onclick=\"quickchart('df-0f332c2b-30f8-44c8-a119-51aed2aedaf0')\"\n",
              "                title=\"Suggest charts\"\n",
              "                style=\"display:none;\">\n",
              "\n",
              "<svg xmlns=\"http://www.w3.org/2000/svg\" height=\"24px\"viewBox=\"0 0 24 24\"\n",
              "     width=\"24px\">\n",
              "    <g>\n",
              "        <path d=\"M19 3H5c-1.1 0-2 .9-2 2v14c0 1.1.9 2 2 2h14c1.1 0 2-.9 2-2V5c0-1.1-.9-2-2-2zM9 17H7v-7h2v7zm4 0h-2V7h2v10zm4 0h-2v-4h2v4z\"/>\n",
              "    </g>\n",
              "</svg>\n",
              "      </button>\n",
              "\n",
              "<style>\n",
              "  .colab-df-quickchart {\n",
              "      --bg-color: #E8F0FE;\n",
              "      --fill-color: #1967D2;\n",
              "      --hover-bg-color: #E2EBFA;\n",
              "      --hover-fill-color: #174EA6;\n",
              "      --disabled-fill-color: #AAA;\n",
              "      --disabled-bg-color: #DDD;\n",
              "  }\n",
              "\n",
              "  [theme=dark] .colab-df-quickchart {\n",
              "      --bg-color: #3B4455;\n",
              "      --fill-color: #D2E3FC;\n",
              "      --hover-bg-color: #434B5C;\n",
              "      --hover-fill-color: #FFFFFF;\n",
              "      --disabled-bg-color: #3B4455;\n",
              "      --disabled-fill-color: #666;\n",
              "  }\n",
              "\n",
              "  .colab-df-quickchart {\n",
              "    background-color: var(--bg-color);\n",
              "    border: none;\n",
              "    border-radius: 50%;\n",
              "    cursor: pointer;\n",
              "    display: none;\n",
              "    fill: var(--fill-color);\n",
              "    height: 32px;\n",
              "    padding: 0;\n",
              "    width: 32px;\n",
              "  }\n",
              "\n",
              "  .colab-df-quickchart:hover {\n",
              "    background-color: var(--hover-bg-color);\n",
              "    box-shadow: 0 1px 2px rgba(60, 64, 67, 0.3), 0 1px 3px 1px rgba(60, 64, 67, 0.15);\n",
              "    fill: var(--button-hover-fill-color);\n",
              "  }\n",
              "\n",
              "  .colab-df-quickchart-complete:disabled,\n",
              "  .colab-df-quickchart-complete:disabled:hover {\n",
              "    background-color: var(--disabled-bg-color);\n",
              "    fill: var(--disabled-fill-color);\n",
              "    box-shadow: none;\n",
              "  }\n",
              "\n",
              "  .colab-df-spinner {\n",
              "    border: 2px solid var(--fill-color);\n",
              "    border-color: transparent;\n",
              "    border-bottom-color: var(--fill-color);\n",
              "    animation:\n",
              "      spin 1s steps(1) infinite;\n",
              "  }\n",
              "\n",
              "  @keyframes spin {\n",
              "    0% {\n",
              "      border-color: transparent;\n",
              "      border-bottom-color: var(--fill-color);\n",
              "      border-left-color: var(--fill-color);\n",
              "    }\n",
              "    20% {\n",
              "      border-color: transparent;\n",
              "      border-left-color: var(--fill-color);\n",
              "      border-top-color: var(--fill-color);\n",
              "    }\n",
              "    30% {\n",
              "      border-color: transparent;\n",
              "      border-left-color: var(--fill-color);\n",
              "      border-top-color: var(--fill-color);\n",
              "      border-right-color: var(--fill-color);\n",
              "    }\n",
              "    40% {\n",
              "      border-color: transparent;\n",
              "      border-right-color: var(--fill-color);\n",
              "      border-top-color: var(--fill-color);\n",
              "    }\n",
              "    60% {\n",
              "      border-color: transparent;\n",
              "      border-right-color: var(--fill-color);\n",
              "    }\n",
              "    80% {\n",
              "      border-color: transparent;\n",
              "      border-right-color: var(--fill-color);\n",
              "      border-bottom-color: var(--fill-color);\n",
              "    }\n",
              "    90% {\n",
              "      border-color: transparent;\n",
              "      border-bottom-color: var(--fill-color);\n",
              "    }\n",
              "  }\n",
              "</style>\n",
              "\n",
              "      <script>\n",
              "        async function quickchart(key) {\n",
              "          const quickchartButtonEl =\n",
              "            document.querySelector('#' + key + ' button');\n",
              "          quickchartButtonEl.disabled = true;  // To prevent multiple clicks.\n",
              "          quickchartButtonEl.classList.add('colab-df-spinner');\n",
              "          try {\n",
              "            const charts = await google.colab.kernel.invokeFunction(\n",
              "                'suggestCharts', [key], {});\n",
              "          } catch (error) {\n",
              "            console.error('Error during call to suggestCharts:', error);\n",
              "          }\n",
              "          quickchartButtonEl.classList.remove('colab-df-spinner');\n",
              "          quickchartButtonEl.classList.add('colab-df-quickchart-complete');\n",
              "        }\n",
              "        (() => {\n",
              "          let quickchartButtonEl =\n",
              "            document.querySelector('#df-0f332c2b-30f8-44c8-a119-51aed2aedaf0 button');\n",
              "          quickchartButtonEl.style.display =\n",
              "            google.colab.kernel.accessAllowed ? 'block' : 'none';\n",
              "        })();\n",
              "      </script>\n",
              "    </div>\n",
              "\n",
              "    </div>\n",
              "  </div>\n"
            ],
            "application/vnd.google.colaboratory.intrinsic+json": {
              "type": "dataframe"
            }
          },
          "metadata": {},
          "execution_count": 17
        }
      ]
    },
    {
      "cell_type": "code",
      "source": [
        "sns.histplot(train_data.target,bins=50)"
      ],
      "metadata": {
        "colab": {
          "base_uri": "https://localhost:8080/",
          "height": 466
        },
        "id": "VJEO0Wq4OMH6",
        "outputId": "cd2ea3b7-d058-4439-e7cc-3f50060f338b"
      },
      "execution_count": 18,
      "outputs": [
        {
          "output_type": "execute_result",
          "data": {
            "text/plain": [
              "<Axes: xlabel='target', ylabel='Count'>"
            ]
          },
          "metadata": {},
          "execution_count": 18
        },
        {
          "output_type": "display_data",
          "data": {
            "text/plain": [
              "<Figure size 640x480 with 1 Axes>"
            ],
            "image/png": "[encoded data removed]"
          },
          "metadata": {}
        }
      ]
    },
    {
      "cell_type": "code",
      "source": [
        "non_numeric_cols = [col for col, dtype in train_data.dtypes.items() if dtype not in ['float64', 'int64']]\n",
        "\n",
        "if non_numeric_cols:\n",
        "    print(f\"Columns with non-numeric data types: {non_numeric_cols}\")\n",
        "else:\n",
        "    print(\"All columns have float or integer data types.\")"
      ],
      "metadata": {
        "colab": {
          "base_uri": "https://localhost:8080/"
        },
        "id": "niduWSnvOMET",
        "outputId": "67dfba6b-889a-4962-caee-2e596393c067"
      },
      "execution_count": 19,
      "outputs": [
        {
          "output_type": "stream",
          "name": "stdout",
          "text": [
            "Columns with non-numeric data types: ['f_61', 'f_121', 'f_215', 'f_237']\n"
          ]
        }
      ]
    },
    {
      "cell_type": "code",
      "source": [
        "train_data['f_61'].head(), train_data['f_121'].head(), train_data['f_215'].head(), train_data['f_237'].head(),"
      ],
      "metadata": {
        "colab": {
          "base_uri": "https://localhost:8080/"
        },
        "id": "IPP2hX0wOMBP",
        "outputId": "7bf0a9ef-9671-4443-8350-e4ef16bfa678"
      },
      "execution_count": 20,
      "outputs": [
        {
          "output_type": "execute_result",
          "data": {
            "text/plain": [
              "(0    b\n",
              " 1    a\n",
              " 2    b\n",
              " 3    a\n",
              " 4    b\n",
              " Name: f_61, dtype: object,\n",
              " 0    D\n",
              " 1    A\n",
              " 2    B\n",
              " 3    C\n",
              " 4    E\n",
              " Name: f_121, dtype: object,\n",
              " 0       red\n",
              " 1      blue\n",
              " 2    orange\n",
              " 3      blue\n",
              " 4    orange\n",
              " Name: f_215, dtype: object,\n",
              " 0    Canada\n",
              " 1    Canada\n",
              " 2    Canada\n",
              " 3       USA\n",
              " 4    Canada\n",
              " Name: f_237, dtype: object)"
            ]
          },
          "metadata": {},
          "execution_count": 20
        }
      ]
    },
    {
      "cell_type": "code",
      "source": [
        "non_numeric_features = train_data.dtypes[train_data.dtypes == 'object'].index\n",
        "\n",
        "# Encoding the non-numeric features\n",
        "encoder = LabelEncoder()\n",
        "for feature in non_numeric_features:\n",
        "    train_data[feature] = encoder.fit_transform(train_data[feature].astype(str))\n",
        "\n",
        "# Confirming that all features are now numeric\n",
        "train_data.dtypes[train_data.dtypes != 'float64']"
      ],
      "metadata": {
        "colab": {
          "base_uri": "https://localhost:8080/",
          "height": 209
        },
        "id": "44x3mRFWSCUG",
        "outputId": "98010a48-7201-42b9-ce41-7b1b1c992fac"
      },
      "execution_count": 23,
      "outputs": [
        {
          "output_type": "execute_result",
          "data": {
            "text/plain": [
              "f_61     int64\n",
              "f_121    int64\n",
              "f_215    int64\n",
              "f_237    int64\n",
              "dtype: object"
            ],
            "text/html": [
              "<div>\n",
              "<style scoped>\n",
              "    .dataframe tbody tr th:only-of-type {\n",
              "        vertical-align: middle;\n",
              "    }\n",
              "\n",
              "    .dataframe tbody tr th {\n",
              "        vertical-align: top;\n",
              "    }\n",
              "\n",
              "    .dataframe thead th {\n",
              "        text-align: right;\n",
              "    }\n",
              "</style>\n",
              "<table border=\"1\" class=\"dataframe\">\n",
              "  <thead>\n",
              "    <tr style=\"text-align: right;\">\n",
              "      <th></th>\n",
              "      <th>0</th>\n",
              "    </tr>\n",
              "  </thead>\n",
              "  <tbody>\n",
              "    <tr>\n",
              "      <th>f_61</th>\n",
              "      <td>int64</td>\n",
              "    </tr>\n",
              "    <tr>\n",
              "      <th>f_121</th>\n",
              "      <td>int64</td>\n",
              "    </tr>\n",
              "    <tr>\n",
              "      <th>f_215</th>\n",
              "      <td>int64</td>\n",
              "    </tr>\n",
              "    <tr>\n",
              "      <th>f_237</th>\n",
              "      <td>int64</td>\n",
              "    </tr>\n",
              "  </tbody>\n",
              "</table>\n",
              "</div><br><label><b>dtype:</b> object</label>"
            ]
          },
          "metadata": {},
          "execution_count": 23
        }
      ]
    },
    {
      "cell_type": "code",
      "source": [
        "non_numeric_cols = [col for col, dtype in test_data.dtypes.items() if dtype not in ['float64', 'int64']]\n",
        "\n",
        "if non_numeric_cols:\n",
        "    print(f\"Columns with non-numeric data types: {non_numeric_cols}\")\n",
        "else:\n",
        "    print(\"All columns have float or integer data types.\")"
      ],
      "metadata": {
        "colab": {
          "base_uri": "https://localhost:8080/"
        },
        "id": "TcodIcX3Sz7K",
        "outputId": "97ea4971-ebd0-4828-9608-58ba583d0f43"
      },
      "execution_count": 27,
      "outputs": [
        {
          "output_type": "stream",
          "name": "stdout",
          "text": [
            "Columns with non-numeric data types: ['f_61', 'f_121', 'f_215', 'f_237']\n"
          ]
        }
      ]
    },
    {
      "cell_type": "code",
      "source": [
        "non_numeric_features_test = test_data.dtypes[test_data.dtypes == 'object'].index\n",
        "# Encoding the non-numeric features\n",
        "encoder = LabelEncoder()\n",
        "for feature in non_numeric_features_test:\n",
        "    test_data[feature] = encoder.fit_transform(test_data[feature].astype(str))\n",
        "\n",
        "# Confirming that all features are now numeric\n",
        "test_data.dtypes[test_data.dtypes != 'float64']"
      ],
      "metadata": {
        "colab": {
          "base_uri": "https://localhost:8080/",
          "height": 209
        },
        "id": "Vzg2y9Z0S2BY",
        "outputId": "1a6a534a-1a45-4504-90e8-7b8d3f45c1a6"
      },
      "execution_count": 28,
      "outputs": [
        {
          "output_type": "execute_result",
          "data": {
            "text/plain": [
              "f_61     int64\n",
              "f_121    int64\n",
              "f_215    int64\n",
              "f_237    int64\n",
              "dtype: object"
            ],
            "text/html": [
              "<div>\n",
              "<style scoped>\n",
              "    .dataframe tbody tr th:only-of-type {\n",
              "        vertical-align: middle;\n",
              "    }\n",
              "\n",
              "    .dataframe tbody tr th {\n",
              "        vertical-align: top;\n",
              "    }\n",
              "\n",
              "    .dataframe thead th {\n",
              "        text-align: right;\n",
              "    }\n",
              "</style>\n",
              "<table border=\"1\" class=\"dataframe\">\n",
              "  <thead>\n",
              "    <tr style=\"text-align: right;\">\n",
              "      <th></th>\n",
              "      <th>0</th>\n",
              "    </tr>\n",
              "  </thead>\n",
              "  <tbody>\n",
              "    <tr>\n",
              "      <th>f_61</th>\n",
              "      <td>int64</td>\n",
              "    </tr>\n",
              "    <tr>\n",
              "      <th>f_121</th>\n",
              "      <td>int64</td>\n",
              "    </tr>\n",
              "    <tr>\n",
              "      <th>f_215</th>\n",
              "      <td>int64</td>\n",
              "    </tr>\n",
              "    <tr>\n",
              "      <th>f_237</th>\n",
              "      <td>int64</td>\n",
              "    </tr>\n",
              "  </tbody>\n",
              "</table>\n",
              "</div><br><label><b>dtype:</b> object</label>"
            ]
          },
          "metadata": {},
          "execution_count": 28
        }
      ]
    },
    {
      "cell_type": "code",
      "source": [],
      "metadata": {
        "id": "qcNIOoojSz35"
      },
      "execution_count": null,
      "outputs": []
    },
    {
      "cell_type": "code",
      "source": [
        "# Check missing values in train_data\n",
        "missing_train = train_data.isna().sum()\n",
        "print(\"Missing values in train_data:\")\n",
        "print(missing_train[missing_train > 0])\n",
        "\n",
        "# Check missing values in test_data\n",
        "missing_test = test_data.isna().sum()\n",
        "print(\"\\nMissing values in test_data:\")\n",
        "print(missing_test[missing_test > 0])"
      ],
      "metadata": {
        "colab": {
          "base_uri": "https://localhost:8080/"
        },
        "id": "UErazMzHSCQu",
        "outputId": "7dc459d6-0246-4dfe-f801-70499d5c69ae"
      },
      "execution_count": 24,
      "outputs": [
        {
          "output_type": "stream",
          "name": "stdout",
          "text": [
            "Missing values in train_data:\n",
            "f_0       97\n",
            "f_1       72\n",
            "f_2       92\n",
            "f_3       90\n",
            "f_4       93\n",
            "        ... \n",
            "f_249    114\n",
            "f_250    100\n",
            "f_251     79\n",
            "f_252     96\n",
            "f_253     96\n",
            "Length: 250, dtype: int64\n",
            "\n",
            "Missing values in test_data:\n",
            "f_0      28\n",
            "f_1      17\n",
            "f_2      17\n",
            "f_3      18\n",
            "f_4      22\n",
            "         ..\n",
            "f_249    20\n",
            "f_250    19\n",
            "f_251    22\n",
            "f_252    21\n",
            "f_253    15\n",
            "Length: 254, dtype: int64\n"
          ]
        }
      ]
    },
    {
      "cell_type": "code",
      "source": [
        "# Filling missing values in train_data with median\n",
        "for column in train_data.columns:\n",
        "    median_value = train_data[column].median()\n",
        "    train_data[column].fillna(median_value, inplace=True)\n",
        "\n",
        "# Filling missing values in test_data with median\n",
        "for column in test_data.columns:\n",
        "    median_value = test_data[column].median()\n",
        "    test_data[column].fillna(median_value, inplace=True)"
      ],
      "metadata": {
        "colab": {
          "base_uri": "https://localhost:8080/"
        },
        "collapsed": true,
        "id": "1G0f5JskSCN4",
        "outputId": "64d6a2e3-9fae-4cbc-d9f6-9b8387c81937"
      },
      "execution_count": 29,
      "outputs": [
        {
          "output_type": "stream",
          "name": "stderr",
          "text": [
            "/tmp/ipython-input-4214992296.py:4: FutureWarning: A value is trying to be set on a copy of a DataFrame or Series through chained assignment using an inplace method.\n",
            "The behavior will change in pandas 3.0. This inplace method will never work because the intermediate object on which we are setting values always behaves as a copy.\n",
            "\n",
            "For example, when doing 'df[col].method(value, inplace=True)', try using 'df.method({col: value}, inplace=True)' or df[col] = df[col].method(value) instead, to perform the operation inplace on the original object.\n",
            "\n",
            "\n",
            "  train_data[column].fillna(median_value, inplace=True)\n",
            "/tmp/ipython-input-4214992296.py:9: FutureWarning: A value is trying to be set on a copy of a DataFrame or Series through chained assignment using an inplace method.\n",
            "The behavior will change in pandas 3.0. This inplace method will never work because the intermediate object on which we are setting values always behaves as a copy.\n",
            "\n",
            "For example, when doing 'df[col].method(value, inplace=True)', try using 'df.method({col: value}, inplace=True)' or df[col] = df[col].method(value) instead, to perform the operation inplace on the original object.\n",
            "\n",
            "\n",
            "  test_data[column].fillna(median_value, inplace=True)\n"
          ]
        }
      ]
    },
    {
      "cell_type": "code",
      "source": [
        "# Check missing values in train_data\n",
        "missing_train = train_data.isna().sum()\n",
        "print(\"Missing values in train_data:\")\n",
        "print(missing_train[missing_train > 0])\n",
        "\n",
        "# Check missing values in test_data\n",
        "missing_test = test_data.isna().sum()\n",
        "print(\"\\nMissing values in test_data:\")\n",
        "print(missing_test[missing_test > 0])"
      ],
      "metadata": {
        "colab": {
          "base_uri": "https://localhost:8080/"
        },
        "id": "_7KLoX6ASsug",
        "outputId": "fe96802c-14c2-452d-cb10-fe93df5e0e9d"
      },
      "execution_count": 30,
      "outputs": [
        {
          "output_type": "stream",
          "name": "stdout",
          "text": [
            "Missing values in train_data:\n",
            "Series([], dtype: int64)\n",
            "\n",
            "Missing values in test_data:\n",
            "Series([], dtype: int64)\n"
          ]
        }
      ]
    },
    {
      "cell_type": "code",
      "source": [
        "# Separating features and target variable from training data\n",
        "X = train_data.drop('target', axis=1)\n",
        "y = train_data['target']\n",
        "\n",
        "# Splitting the data into training and validation sets\n",
        "X_train, X_val, y_train, y_val = train_test_split(X, y, test_size=0.2, random_state=42)\n",
        "\n",
        "# Normalizing the features\n",
        "scaler = StandardScaler()\n",
        "X_train_scaled = scaler.fit_transform(X_train)\n",
        "X_val_scaled = scaler.transform(X_val)\n",
        "X_test_scaled = scaler.transform(test_data)\n",
        "\n",
        "# Initializing the model\n",
        "lr_model = LinearRegression()\n",
        "\n",
        "# Fitting the model to the training data\n",
        "lr_model.fit(X_train_scaled, y_train)\n",
        "\n",
        "# Making predictions on the validation set\n",
        "y_val_pred = lr_model.predict(X_val_scaled)\n",
        "\n",
        "# Calculating the mean squared error\n",
        "mse = mean_squared_error(y_val, y_val_pred)\n",
        "mse"
      ],
      "metadata": {
        "colab": {
          "base_uri": "https://localhost:8080/"
        },
        "id": "MhYeWZVFS-_8",
        "outputId": "e2a50672-f19b-4141-a0cc-37812dcdaa48"
      },
      "execution_count": 31,
      "outputs": [
        {
          "output_type": "execute_result",
          "data": {
            "text/plain": [
              "14.010723344651987"
            ]
          },
          "metadata": {},
          "execution_count": 31
        }
      ]
    },
    {
      "cell_type": "code",
      "source": [
        "# Initializing the model\n",
        "rf_model = RandomForestRegressor(random_state=42)\n",
        "\n",
        "# Fitting the model to the training data\n",
        "rf_model.fit(X_train_scaled, y_train)\n",
        "\n",
        "# Making predictions on the validation set\n",
        "y_val_pred_rf = rf_model.predict(X_val_scaled)\n",
        "\n",
        "# Calculating the mean squared error for Random Forest\n",
        "mse_rf = mean_squared_error(y_val, y_val_pred_rf)\n",
        "mse_rf"
      ],
      "metadata": {
        "colab": {
          "base_uri": "https://localhost:8080/"
        },
        "id": "TKJxaWIUS-8i",
        "outputId": "20070dd7-25cc-43de-b18d-ad1948b0a18a"
      },
      "execution_count": 32,
      "outputs": [
        {
          "output_type": "execute_result",
          "data": {
            "text/plain": [
              "12.025551828152306"
            ]
          },
          "metadata": {},
          "execution_count": 32
        }
      ]
    },
    {
      "cell_type": "code",
      "source": [
        "# Initializing the models\n",
        "lasso_model = Lasso(random_state=42)\n",
        "ridge_model = Ridge(random_state=42)\n",
        "\n",
        "# Fitting the models to the training data\n",
        "lasso_model.fit(X_train_scaled, y_train)\n",
        "ridge_model.fit(X_train_scaled, y_train)\n",
        "\n",
        "# Making predictions on the validation set\n",
        "y_val_pred_lasso = lasso_model.predict(X_val_scaled)\n",
        "y_val_pred_ridge = ridge_model.predict(X_val_scaled)\n",
        "\n",
        "# Calculating the MSE and RMSE for all models\n",
        "mse_lasso = mean_squared_error(y_val, y_val_pred_lasso)\n",
        "mse_ridge = mean_squared_error(y_val, y_val_pred_ridge)\n",
        "\n",
        "rmse_lr = np.sqrt(mse)\n",
        "rmse_rf = np.sqrt(mse_rf)\n",
        "rmse_lasso = np.sqrt(mse_lasso)\n",
        "rmse_ridge = np.sqrt(mse_ridge)\n",
        "\n",
        "mse_values_all = [mse, mse_rf, mse_lasso, mse_ridge]\n",
        "rmse_values_all = [rmse_lr, rmse_rf, rmse_lasso, rmse_ridge]\n",
        "\n",
        "mse_values_all, rmse_values_all"
      ],
      "metadata": {
        "colab": {
          "base_uri": "https://localhost:8080/"
        },
        "id": "6-Eqe_jFS-6D",
        "outputId": "46c794be-36bd-43c1-8c6d-486b6ed05574"
      },
      "execution_count": 33,
      "outputs": [
        {
          "output_type": "execute_result",
          "data": {
            "text/plain": [
              "([14.010723344651987,\n",
              "  12.025551828152306,\n",
              "  18.001387093995596,\n",
              "  14.010561607998667],\n",
              " [np.float64(3.743090079687101),\n",
              "  np.float64(3.4677877426613506),\n",
              "  np.float64(4.242804154565185),\n",
              "  np.float64(3.7430684749278456)])"
            ]
          },
          "metadata": {},
          "execution_count": 33
        }
      ]
    },
    {
      "cell_type": "code",
      "source": [
        "# Your color palette\n",
        "color1 = '#98C5C0'  # Light teal\n",
        "color2 = '#A880DC'  # Light purple\n",
        "\n",
        "models_all = ['Linear Regression', 'Random Forest', 'Lasso', 'Ridge']\n",
        "\n",
        "# Calculating R-squared for all models\n",
        "r2_lr = lr_model.score(X_val_scaled, y_val)\n",
        "r2_rf = rf_model.score(X_val_scaled, y_val)\n",
        "r2_lasso = lasso_model.score(X_val_scaled, y_val)\n",
        "r2_ridge = ridge_model.score(X_val_scaled, y_val)\n",
        "\n",
        "r2_values_all = [r2_lr, r2_rf, r2_lasso, r2_ridge]\n",
        "\n",
        "# Creating the bar plot for RMSE and R-squared\n",
        "fig, ax = plt.subplots(1, 2, figsize=(15, 6))\n",
        "\n",
        "ax[0].barh(models_all, rmse_values_all, color=color1)\n",
        "ax[0].set_xlabel('Root Mean Squared Error (RMSE)')\n",
        "ax[0].set_title('Comparison of RMSE among Four Models')\n",
        "\n",
        "ax[1].barh(models_all, r2_values_all, color=color2)\n",
        "ax[1].set_xlabel('R-Squared ($R^2$)')\n",
        "ax[1].set_title('Comparison of $R^2$ among Four Models')\n",
        "\n",
        "plt.tight_layout()\n",
        "plt.show()"
      ],
      "metadata": {
        "colab": {
          "base_uri": "https://localhost:8080/",
          "height": 577
        },
        "id": "l8QggrefToga",
        "outputId": "5823b8fb-aefd-41c7-ccd0-ec402896dd67"
      },
      "execution_count": 34,
      "outputs": [
        {
          "output_type": "display_data",
          "data": {
            "text/plain": [
              "<Figure size 1500x600 with 2 Axes>"
            ],
            "image/png": "[encoded data removed]"
          },
          "metadata": {}
        }
      ]
    }
  ]
}